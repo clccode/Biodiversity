{
 "cells": [
  {
   "cell_type": "markdown",
   "metadata": {},
   "source": [
    "### Import the libraries we will need"
   ]
  },
  {
   "cell_type": "code",
   "execution_count": 1,
   "metadata": {},
   "outputs": [],
   "source": [
    "import pandas as pd\n",
    "import numpy as np\n",
    "from matplotlib import pyplot as plt\n",
    "import seaborn as sns"
   ]
  },
  {
   "cell_type": "markdown",
   "metadata": {},
   "source": [
    "### Load the data"
   ]
  },
  {
   "cell_type": "code",
   "execution_count": 2,
   "metadata": {},
   "outputs": [],
   "source": [
    "obs_df = pd.read_csv('observations.csv')\n",
    "spec_df = pd.read_csv('species_info.csv')"
   ]
  },
  {
   "cell_type": "markdown",
   "metadata": {},
   "source": [
    "### Inspect the data"
   ]
  },
  {
   "cell_type": "code",
   "execution_count": 3,
   "metadata": {},
   "outputs": [
    {
     "data": {
      "text/html": [
       "<div>\n",
       "<style scoped>\n",
       "    .dataframe tbody tr th:only-of-type {\n",
       "        vertical-align: middle;\n",
       "    }\n",
       "\n",
       "    .dataframe tbody tr th {\n",
       "        vertical-align: top;\n",
       "    }\n",
       "\n",
       "    .dataframe thead th {\n",
       "        text-align: right;\n",
       "    }\n",
       "</style>\n",
       "<table border=\"1\" class=\"dataframe\">\n",
       "  <thead>\n",
       "    <tr style=\"text-align: right;\">\n",
       "      <th></th>\n",
       "      <th>scientific_name</th>\n",
       "      <th>park_name</th>\n",
       "      <th>observations</th>\n",
       "    </tr>\n",
       "  </thead>\n",
       "  <tbody>\n",
       "    <tr>\n",
       "      <th>0</th>\n",
       "      <td>Vicia benghalensis</td>\n",
       "      <td>Great Smoky Mountains National Park</td>\n",
       "      <td>68</td>\n",
       "    </tr>\n",
       "    <tr>\n",
       "      <th>1</th>\n",
       "      <td>Neovison vison</td>\n",
       "      <td>Great Smoky Mountains National Park</td>\n",
       "      <td>77</td>\n",
       "    </tr>\n",
       "    <tr>\n",
       "      <th>2</th>\n",
       "      <td>Prunus subcordata</td>\n",
       "      <td>Yosemite National Park</td>\n",
       "      <td>138</td>\n",
       "    </tr>\n",
       "    <tr>\n",
       "      <th>3</th>\n",
       "      <td>Abutilon theophrasti</td>\n",
       "      <td>Bryce National Park</td>\n",
       "      <td>84</td>\n",
       "    </tr>\n",
       "    <tr>\n",
       "      <th>4</th>\n",
       "      <td>Githopsis specularioides</td>\n",
       "      <td>Great Smoky Mountains National Park</td>\n",
       "      <td>85</td>\n",
       "    </tr>\n",
       "  </tbody>\n",
       "</table>\n",
       "</div>"
      ],
      "text/plain": [
       "            scientific_name                            park_name  observations\n",
       "0        Vicia benghalensis  Great Smoky Mountains National Park            68\n",
       "1            Neovison vison  Great Smoky Mountains National Park            77\n",
       "2         Prunus subcordata               Yosemite National Park           138\n",
       "3      Abutilon theophrasti                  Bryce National Park            84\n",
       "4  Githopsis specularioides  Great Smoky Mountains National Park            85"
      ]
     },
     "execution_count": 3,
     "metadata": {},
     "output_type": "execute_result"
    }
   ],
   "source": [
    "obs_df.head()"
   ]
  },
  {
   "cell_type": "code",
   "execution_count": 4,
   "metadata": {},
   "outputs": [
    {
     "data": {
      "text/html": [
       "<div>\n",
       "<style scoped>\n",
       "    .dataframe tbody tr th:only-of-type {\n",
       "        vertical-align: middle;\n",
       "    }\n",
       "\n",
       "    .dataframe tbody tr th {\n",
       "        vertical-align: top;\n",
       "    }\n",
       "\n",
       "    .dataframe thead th {\n",
       "        text-align: right;\n",
       "    }\n",
       "</style>\n",
       "<table border=\"1\" class=\"dataframe\">\n",
       "  <thead>\n",
       "    <tr style=\"text-align: right;\">\n",
       "      <th></th>\n",
       "      <th>category</th>\n",
       "      <th>scientific_name</th>\n",
       "      <th>common_names</th>\n",
       "      <th>conservation_status</th>\n",
       "    </tr>\n",
       "  </thead>\n",
       "  <tbody>\n",
       "    <tr>\n",
       "      <th>0</th>\n",
       "      <td>Mammal</td>\n",
       "      <td>Clethrionomys gapperi gapperi</td>\n",
       "      <td>Gapper's Red-Backed Vole</td>\n",
       "      <td>NaN</td>\n",
       "    </tr>\n",
       "    <tr>\n",
       "      <th>1</th>\n",
       "      <td>Mammal</td>\n",
       "      <td>Bos bison</td>\n",
       "      <td>American Bison, Bison</td>\n",
       "      <td>NaN</td>\n",
       "    </tr>\n",
       "    <tr>\n",
       "      <th>2</th>\n",
       "      <td>Mammal</td>\n",
       "      <td>Bos taurus</td>\n",
       "      <td>Aurochs, Aurochs, Domestic Cattle (Feral), Dom...</td>\n",
       "      <td>NaN</td>\n",
       "    </tr>\n",
       "    <tr>\n",
       "      <th>3</th>\n",
       "      <td>Mammal</td>\n",
       "      <td>Ovis aries</td>\n",
       "      <td>Domestic Sheep, Mouflon, Red Sheep, Sheep (Feral)</td>\n",
       "      <td>NaN</td>\n",
       "    </tr>\n",
       "    <tr>\n",
       "      <th>4</th>\n",
       "      <td>Mammal</td>\n",
       "      <td>Cervus elaphus</td>\n",
       "      <td>Wapiti Or Elk</td>\n",
       "      <td>NaN</td>\n",
       "    </tr>\n",
       "  </tbody>\n",
       "</table>\n",
       "</div>"
      ],
      "text/plain": [
       "  category                scientific_name  \\\n",
       "0   Mammal  Clethrionomys gapperi gapperi   \n",
       "1   Mammal                      Bos bison   \n",
       "2   Mammal                     Bos taurus   \n",
       "3   Mammal                     Ovis aries   \n",
       "4   Mammal                 Cervus elaphus   \n",
       "\n",
       "                                        common_names conservation_status  \n",
       "0                           Gapper's Red-Backed Vole                 NaN  \n",
       "1                              American Bison, Bison                 NaN  \n",
       "2  Aurochs, Aurochs, Domestic Cattle (Feral), Dom...                 NaN  \n",
       "3  Domestic Sheep, Mouflon, Red Sheep, Sheep (Feral)                 NaN  \n",
       "4                                      Wapiti Or Elk                 NaN  "
      ]
     },
     "execution_count": 4,
     "metadata": {},
     "output_type": "execute_result"
    }
   ],
   "source": [
    "spec_df.head()"
   ]
  },
  {
   "cell_type": "markdown",
   "metadata": {},
   "source": [
    "### Characteristics of the observations & species info data"
   ]
  },
  {
   "cell_type": "code",
   "execution_count": 5,
   "metadata": {},
   "outputs": [
    {
     "data": {
      "text/html": [
       "<div>\n",
       "<style scoped>\n",
       "    .dataframe tbody tr th:only-of-type {\n",
       "        vertical-align: middle;\n",
       "    }\n",
       "\n",
       "    .dataframe tbody tr th {\n",
       "        vertical-align: top;\n",
       "    }\n",
       "\n",
       "    .dataframe thead th {\n",
       "        text-align: right;\n",
       "    }\n",
       "</style>\n",
       "<table border=\"1\" class=\"dataframe\">\n",
       "  <thead>\n",
       "    <tr style=\"text-align: right;\">\n",
       "      <th></th>\n",
       "      <th>observations</th>\n",
       "    </tr>\n",
       "  </thead>\n",
       "  <tbody>\n",
       "    <tr>\n",
       "      <th>count</th>\n",
       "      <td>23296.000000</td>\n",
       "    </tr>\n",
       "    <tr>\n",
       "      <th>mean</th>\n",
       "      <td>142.287904</td>\n",
       "    </tr>\n",
       "    <tr>\n",
       "      <th>std</th>\n",
       "      <td>69.890532</td>\n",
       "    </tr>\n",
       "    <tr>\n",
       "      <th>min</th>\n",
       "      <td>9.000000</td>\n",
       "    </tr>\n",
       "    <tr>\n",
       "      <th>25%</th>\n",
       "      <td>86.000000</td>\n",
       "    </tr>\n",
       "    <tr>\n",
       "      <th>50%</th>\n",
       "      <td>124.000000</td>\n",
       "    </tr>\n",
       "    <tr>\n",
       "      <th>75%</th>\n",
       "      <td>195.000000</td>\n",
       "    </tr>\n",
       "    <tr>\n",
       "      <th>max</th>\n",
       "      <td>321.000000</td>\n",
       "    </tr>\n",
       "  </tbody>\n",
       "</table>\n",
       "</div>"
      ],
      "text/plain": [
       "       observations\n",
       "count  23296.000000\n",
       "mean     142.287904\n",
       "std       69.890532\n",
       "min        9.000000\n",
       "25%       86.000000\n",
       "50%      124.000000\n",
       "75%      195.000000\n",
       "max      321.000000"
      ]
     },
     "execution_count": 5,
     "metadata": {},
     "output_type": "execute_result"
    }
   ],
   "source": [
    "obs_df.describe()"
   ]
  },
  {
   "cell_type": "code",
   "execution_count": 6,
   "metadata": {},
   "outputs": [
    {
     "data": {
      "text/html": [
       "<div>\n",
       "<style scoped>\n",
       "    .dataframe tbody tr th:only-of-type {\n",
       "        vertical-align: middle;\n",
       "    }\n",
       "\n",
       "    .dataframe tbody tr th {\n",
       "        vertical-align: top;\n",
       "    }\n",
       "\n",
       "    .dataframe thead th {\n",
       "        text-align: right;\n",
       "    }\n",
       "</style>\n",
       "<table border=\"1\" class=\"dataframe\">\n",
       "  <thead>\n",
       "    <tr style=\"text-align: right;\">\n",
       "      <th></th>\n",
       "      <th>category</th>\n",
       "      <th>scientific_name</th>\n",
       "      <th>common_names</th>\n",
       "      <th>conservation_status</th>\n",
       "    </tr>\n",
       "  </thead>\n",
       "  <tbody>\n",
       "    <tr>\n",
       "      <th>count</th>\n",
       "      <td>5824</td>\n",
       "      <td>5824</td>\n",
       "      <td>5824</td>\n",
       "      <td>191</td>\n",
       "    </tr>\n",
       "    <tr>\n",
       "      <th>unique</th>\n",
       "      <td>7</td>\n",
       "      <td>5541</td>\n",
       "      <td>5504</td>\n",
       "      <td>4</td>\n",
       "    </tr>\n",
       "    <tr>\n",
       "      <th>top</th>\n",
       "      <td>Vascular Plant</td>\n",
       "      <td>Myotis lucifugus</td>\n",
       "      <td>Dicranum Moss</td>\n",
       "      <td>Species of Concern</td>\n",
       "    </tr>\n",
       "    <tr>\n",
       "      <th>freq</th>\n",
       "      <td>4470</td>\n",
       "      <td>3</td>\n",
       "      <td>7</td>\n",
       "      <td>161</td>\n",
       "    </tr>\n",
       "  </tbody>\n",
       "</table>\n",
       "</div>"
      ],
      "text/plain": [
       "              category   scientific_name   common_names conservation_status\n",
       "count             5824              5824           5824                 191\n",
       "unique               7              5541           5504                   4\n",
       "top     Vascular Plant  Myotis lucifugus  Dicranum Moss  Species of Concern\n",
       "freq              4470                 3              7                 161"
      ]
     },
     "execution_count": 6,
     "metadata": {},
     "output_type": "execute_result"
    }
   ],
   "source": [
    "spec_df.describe()"
   ]
  },
  {
   "cell_type": "markdown",
   "metadata": {},
   "source": [
    "### What are the specific categories in the species data?"
   ]
  },
  {
   "cell_type": "code",
   "execution_count": 7,
   "metadata": {},
   "outputs": [
    {
     "data": {
      "text/plain": [
       "array(['Mammal', 'Bird', 'Reptile', 'Amphibian', 'Fish', 'Vascular Plant',\n",
       "       'Nonvascular Plant'], dtype=object)"
      ]
     },
     "execution_count": 7,
     "metadata": {},
     "output_type": "execute_result"
    }
   ],
   "source": [
    "spec_df['category'].unique()"
   ]
  },
  {
   "cell_type": "markdown",
   "metadata": {},
   "source": [
    "### Specific conservation status?"
   ]
  },
  {
   "cell_type": "code",
   "execution_count": 8,
   "metadata": {},
   "outputs": [
    {
     "data": {
      "text/plain": [
       "array([nan, 'Species of Concern', 'Endangered', 'Threatened',\n",
       "       'In Recovery'], dtype=object)"
      ]
     },
     "execution_count": 8,
     "metadata": {},
     "output_type": "execute_result"
    }
   ],
   "source": [
    "spec_df['conservation_status'].unique()"
   ]
  },
  {
   "cell_type": "code",
   "execution_count": 9,
   "metadata": {},
   "outputs": [
    {
     "data": {
      "image/png": "[encoded data removed]",
      "text/plain": [
       "<Figure size 864x504 with 1 Axes>"
      ]
     },
     "metadata": {},
     "output_type": "display_data"
    }
   ],
   "source": [
    "sns.set_style('darkgrid')\n",
    "plt.figure(figsize=(12,7))\n",
    "sns.countplot(data=spec_df, x='conservation_status')\n",
    "plt.title('Conservation Status Counts', size=15)\n",
    "plt.xlabel('Conservation Status', size=14)\n",
    "plt.ylabel('Count', size=14)\n",
    "plt.savefig('status_counts.png')\n",
    "plt.show()"
   ]
  },
  {
   "cell_type": "code",
   "execution_count": 10,
   "metadata": {},
   "outputs": [
    {
     "data": {
      "text/html": [
       "<div>\n",
       "<style scoped>\n",
       "    .dataframe tbody tr th:only-of-type {\n",
       "        vertical-align: middle;\n",
       "    }\n",
       "\n",
       "    .dataframe tbody tr th {\n",
       "        vertical-align: top;\n",
       "    }\n",
       "\n",
       "    .dataframe thead th {\n",
       "        text-align: right;\n",
       "    }\n",
       "</style>\n",
       "<table border=\"1\" class=\"dataframe\">\n",
       "  <thead>\n",
       "    <tr style=\"text-align: right;\">\n",
       "      <th></th>\n",
       "      <th>category</th>\n",
       "      <th>scientific_name</th>\n",
       "      <th>common_names</th>\n",
       "      <th>conservation_status</th>\n",
       "    </tr>\n",
       "  </thead>\n",
       "  <tbody>\n",
       "    <tr>\n",
       "      <th>8</th>\n",
       "      <td>Mammal</td>\n",
       "      <td>Canis lupus</td>\n",
       "      <td>Gray Wolf</td>\n",
       "      <td>Endangered</td>\n",
       "    </tr>\n",
       "    <tr>\n",
       "      <th>9</th>\n",
       "      <td>Mammal</td>\n",
       "      <td>Canis rufus</td>\n",
       "      <td>Red Wolf</td>\n",
       "      <td>Endangered</td>\n",
       "    </tr>\n",
       "    <tr>\n",
       "      <th>34</th>\n",
       "      <td>Mammal</td>\n",
       "      <td>Myotis grisescens</td>\n",
       "      <td>Gray Myotis</td>\n",
       "      <td>Endangered</td>\n",
       "    </tr>\n",
       "    <tr>\n",
       "      <th>39</th>\n",
       "      <td>Mammal</td>\n",
       "      <td>Myotis sodalis</td>\n",
       "      <td>Indiana Bat, Indiana Or Social Myotis</td>\n",
       "      <td>Endangered</td>\n",
       "    </tr>\n",
       "    <tr>\n",
       "      <th>72</th>\n",
       "      <td>Mammal</td>\n",
       "      <td>Glaucomys sabrinus coloratus</td>\n",
       "      <td>Carolina Northern Flying Squirrel, Northern Fl...</td>\n",
       "      <td>Endangered</td>\n",
       "    </tr>\n",
       "    <tr>\n",
       "      <th>173</th>\n",
       "      <td>Bird</td>\n",
       "      <td>Grus americana</td>\n",
       "      <td>Whooping Crane</td>\n",
       "      <td>Endangered</td>\n",
       "    </tr>\n",
       "    <tr>\n",
       "      <th>276</th>\n",
       "      <td>Bird</td>\n",
       "      <td>Vermivora bachmanii</td>\n",
       "      <td>Bachman's Warbler, Bachman's Wood Warbler</td>\n",
       "      <td>Endangered</td>\n",
       "    </tr>\n",
       "    <tr>\n",
       "      <th>343</th>\n",
       "      <td>Bird</td>\n",
       "      <td>Picoides borealis</td>\n",
       "      <td>Red-Cockaded Woodpecker</td>\n",
       "      <td>Endangered</td>\n",
       "    </tr>\n",
       "    <tr>\n",
       "      <th>540</th>\n",
       "      <td>Fish</td>\n",
       "      <td>Etheostoma percnurum</td>\n",
       "      <td>Duskytail Darter</td>\n",
       "      <td>Endangered</td>\n",
       "    </tr>\n",
       "    <tr>\n",
       "      <th>570</th>\n",
       "      <td>Fish</td>\n",
       "      <td>Noturus baileyi</td>\n",
       "      <td>Smoky Madtom</td>\n",
       "      <td>Endangered</td>\n",
       "    </tr>\n",
       "    <tr>\n",
       "      <th>2497</th>\n",
       "      <td>Vascular Plant</td>\n",
       "      <td>Geum radiatum</td>\n",
       "      <td>Mountain Avens, Spreading Avens</td>\n",
       "      <td>Endangered</td>\n",
       "    </tr>\n",
       "    <tr>\n",
       "      <th>3275</th>\n",
       "      <td>Fish</td>\n",
       "      <td>Chasmistes liorus</td>\n",
       "      <td>June Sucker</td>\n",
       "      <td>Endangered</td>\n",
       "    </tr>\n",
       "    <tr>\n",
       "      <th>4446</th>\n",
       "      <td>Mammal</td>\n",
       "      <td>Ovis canadensis sierrae</td>\n",
       "      <td>Sierra Nevada Bighorn Sheep</td>\n",
       "      <td>Endangered</td>\n",
       "    </tr>\n",
       "    <tr>\n",
       "      <th>4448</th>\n",
       "      <td>Mammal</td>\n",
       "      <td>Canis lupus</td>\n",
       "      <td>Gray Wolf, Wolf</td>\n",
       "      <td>Endangered</td>\n",
       "    </tr>\n",
       "    <tr>\n",
       "      <th>4505</th>\n",
       "      <td>Bird</td>\n",
       "      <td>Gymnogyps californianus</td>\n",
       "      <td>California Condor</td>\n",
       "      <td>Endangered</td>\n",
       "    </tr>\n",
       "    <tr>\n",
       "      <th>4601</th>\n",
       "      <td>Amphibian</td>\n",
       "      <td>Rana sierrae</td>\n",
       "      <td>Sierra Nevada Yellow-Legged Frog</td>\n",
       "      <td>Endangered</td>\n",
       "    </tr>\n",
       "  </tbody>\n",
       "</table>\n",
       "</div>"
      ],
      "text/plain": [
       "            category               scientific_name  \\\n",
       "8             Mammal                   Canis lupus   \n",
       "9             Mammal                   Canis rufus   \n",
       "34            Mammal             Myotis grisescens   \n",
       "39            Mammal                Myotis sodalis   \n",
       "72            Mammal  Glaucomys sabrinus coloratus   \n",
       "173             Bird                Grus americana   \n",
       "276             Bird           Vermivora bachmanii   \n",
       "343             Bird             Picoides borealis   \n",
       "540             Fish          Etheostoma percnurum   \n",
       "570             Fish               Noturus baileyi   \n",
       "2497  Vascular Plant                 Geum radiatum   \n",
       "3275            Fish             Chasmistes liorus   \n",
       "4446          Mammal       Ovis canadensis sierrae   \n",
       "4448          Mammal                   Canis lupus   \n",
       "4505            Bird       Gymnogyps californianus   \n",
       "4601       Amphibian                  Rana sierrae   \n",
       "\n",
       "                                           common_names conservation_status  \n",
       "8                                             Gray Wolf          Endangered  \n",
       "9                                              Red Wolf          Endangered  \n",
       "34                                          Gray Myotis          Endangered  \n",
       "39                Indiana Bat, Indiana Or Social Myotis          Endangered  \n",
       "72    Carolina Northern Flying Squirrel, Northern Fl...          Endangered  \n",
       "173                                      Whooping Crane          Endangered  \n",
       "276           Bachman's Warbler, Bachman's Wood Warbler          Endangered  \n",
       "343                             Red-Cockaded Woodpecker          Endangered  \n",
       "540                                    Duskytail Darter          Endangered  \n",
       "570                                        Smoky Madtom          Endangered  \n",
       "2497                    Mountain Avens, Spreading Avens          Endangered  \n",
       "3275                                        June Sucker          Endangered  \n",
       "4446                        Sierra Nevada Bighorn Sheep          Endangered  \n",
       "4448                                    Gray Wolf, Wolf          Endangered  \n",
       "4505                                  California Condor          Endangered  \n",
       "4601                   Sierra Nevada Yellow-Legged Frog          Endangered  "
      ]
     },
     "execution_count": 10,
     "metadata": {},
     "output_type": "execute_result"
    }
   ],
   "source": [
    "# View the species that are endangered\n",
    "endangered = spec_df[spec_df['conservation_status'] == 'Endangered']\n",
    "endangered"
   ]
  },
  {
   "cell_type": "code",
   "execution_count": 11,
   "metadata": {},
   "outputs": [
    {
     "data": {
      "text/html": [
       "<div>\n",
       "<style scoped>\n",
       "    .dataframe tbody tr th:only-of-type {\n",
       "        vertical-align: middle;\n",
       "    }\n",
       "\n",
       "    .dataframe tbody tr th {\n",
       "        vertical-align: top;\n",
       "    }\n",
       "\n",
       "    .dataframe thead th {\n",
       "        text-align: right;\n",
       "    }\n",
       "</style>\n",
       "<table border=\"1\" class=\"dataframe\">\n",
       "  <thead>\n",
       "    <tr style=\"text-align: right;\">\n",
       "      <th></th>\n",
       "      <th>category</th>\n",
       "      <th>scientific_name</th>\n",
       "      <th>common_names</th>\n",
       "      <th>conservation_status</th>\n",
       "    </tr>\n",
       "  </thead>\n",
       "  <tbody>\n",
       "    <tr>\n",
       "      <th>38</th>\n",
       "      <td>Mammal</td>\n",
       "      <td>Myotis septentrionalis</td>\n",
       "      <td>Northern Long-Eared Bat, Northern Myotis</td>\n",
       "      <td>Threatened</td>\n",
       "    </tr>\n",
       "    <tr>\n",
       "      <th>490</th>\n",
       "      <td>Fish</td>\n",
       "      <td>Erimonax monachus</td>\n",
       "      <td>Spotfin Chub</td>\n",
       "      <td>Threatened</td>\n",
       "    </tr>\n",
       "    <tr>\n",
       "      <th>571</th>\n",
       "      <td>Fish</td>\n",
       "      <td>Noturus flavipinnis</td>\n",
       "      <td>Yellowfin Madtom</td>\n",
       "      <td>Threatened</td>\n",
       "    </tr>\n",
       "    <tr>\n",
       "      <th>704</th>\n",
       "      <td>Vascular Plant</td>\n",
       "      <td>Isotria medeoloides</td>\n",
       "      <td>Small Whorled Pogonia</td>\n",
       "      <td>Threatened</td>\n",
       "    </tr>\n",
       "    <tr>\n",
       "      <th>2562</th>\n",
       "      <td>Vascular Plant</td>\n",
       "      <td>Spiraea virginiana</td>\n",
       "      <td>Virginia Spiraea</td>\n",
       "      <td>Threatened</td>\n",
       "    </tr>\n",
       "    <tr>\n",
       "      <th>3032</th>\n",
       "      <td>Mammal</td>\n",
       "      <td>Ursus arctos horribilis</td>\n",
       "      <td>Grizzly Bear</td>\n",
       "      <td>Threatened</td>\n",
       "    </tr>\n",
       "    <tr>\n",
       "      <th>3283</th>\n",
       "      <td>Fish</td>\n",
       "      <td>Oncorhynchus mykiss</td>\n",
       "      <td>Rainbow Trout</td>\n",
       "      <td>Threatened</td>\n",
       "    </tr>\n",
       "    <tr>\n",
       "      <th>4597</th>\n",
       "      <td>Amphibian</td>\n",
       "      <td>Anaxyrus canorus</td>\n",
       "      <td>Yosemite Toad</td>\n",
       "      <td>Threatened</td>\n",
       "    </tr>\n",
       "    <tr>\n",
       "      <th>4600</th>\n",
       "      <td>Amphibian</td>\n",
       "      <td>Rana draytonii</td>\n",
       "      <td>California Red-Legged Frog</td>\n",
       "      <td>Threatened</td>\n",
       "    </tr>\n",
       "    <tr>\n",
       "      <th>4612</th>\n",
       "      <td>Fish</td>\n",
       "      <td>Oncorhynchus clarkii henshawi</td>\n",
       "      <td>Lahontan Cutthroat Trout</td>\n",
       "      <td>Threatened</td>\n",
       "    </tr>\n",
       "  </tbody>\n",
       "</table>\n",
       "</div>"
      ],
      "text/plain": [
       "            category                scientific_name  \\\n",
       "38            Mammal         Myotis septentrionalis   \n",
       "490             Fish              Erimonax monachus   \n",
       "571             Fish            Noturus flavipinnis   \n",
       "704   Vascular Plant            Isotria medeoloides   \n",
       "2562  Vascular Plant             Spiraea virginiana   \n",
       "3032          Mammal        Ursus arctos horribilis   \n",
       "3283            Fish            Oncorhynchus mykiss   \n",
       "4597       Amphibian               Anaxyrus canorus   \n",
       "4600       Amphibian                 Rana draytonii   \n",
       "4612            Fish  Oncorhynchus clarkii henshawi   \n",
       "\n",
       "                                  common_names conservation_status  \n",
       "38    Northern Long-Eared Bat, Northern Myotis          Threatened  \n",
       "490                               Spotfin Chub          Threatened  \n",
       "571                           Yellowfin Madtom          Threatened  \n",
       "704                      Small Whorled Pogonia          Threatened  \n",
       "2562                          Virginia Spiraea          Threatened  \n",
       "3032                              Grizzly Bear          Threatened  \n",
       "3283                             Rainbow Trout          Threatened  \n",
       "4597                             Yosemite Toad          Threatened  \n",
       "4600                California Red-Legged Frog          Threatened  \n",
       "4612                  Lahontan Cutthroat Trout          Threatened  "
      ]
     },
     "execution_count": 11,
     "metadata": {},
     "output_type": "execute_result"
    }
   ],
   "source": [
    "# Threatened species?\n",
    "threatened = spec_df[spec_df['conservation_status'] == 'Threatened']\n",
    "threatened"
   ]
  },
  {
   "cell_type": "code",
   "execution_count": 12,
   "metadata": {},
   "outputs": [
    {
     "data": {
      "text/html": [
       "<div>\n",
       "<style scoped>\n",
       "    .dataframe tbody tr th:only-of-type {\n",
       "        vertical-align: middle;\n",
       "    }\n",
       "\n",
       "    .dataframe tbody tr th {\n",
       "        vertical-align: top;\n",
       "    }\n",
       "\n",
       "    .dataframe thead th {\n",
       "        text-align: right;\n",
       "    }\n",
       "</style>\n",
       "<table border=\"1\" class=\"dataframe\">\n",
       "  <thead>\n",
       "    <tr style=\"text-align: right;\">\n",
       "      <th></th>\n",
       "      <th>category</th>\n",
       "      <th>scientific_name</th>\n",
       "      <th>common_names</th>\n",
       "      <th>conservation_status</th>\n",
       "    </tr>\n",
       "  </thead>\n",
       "  <tbody>\n",
       "    <tr>\n",
       "      <th>100</th>\n",
       "      <td>Bird</td>\n",
       "      <td>Haliaeetus leucocephalus</td>\n",
       "      <td>Bald Eagle</td>\n",
       "      <td>In Recovery</td>\n",
       "    </tr>\n",
       "    <tr>\n",
       "      <th>3020</th>\n",
       "      <td>Mammal</td>\n",
       "      <td>Canis lupus</td>\n",
       "      <td>Gray Wolf, Wolf</td>\n",
       "      <td>In Recovery</td>\n",
       "    </tr>\n",
       "    <tr>\n",
       "      <th>3143</th>\n",
       "      <td>Bird</td>\n",
       "      <td>Falco peregrinus anatum</td>\n",
       "      <td>American Peregrine Falcon</td>\n",
       "      <td>In Recovery</td>\n",
       "    </tr>\n",
       "    <tr>\n",
       "      <th>4565</th>\n",
       "      <td>Bird</td>\n",
       "      <td>Pelecanus occidentalis</td>\n",
       "      <td>Brown Pelican</td>\n",
       "      <td>In Recovery</td>\n",
       "    </tr>\n",
       "  </tbody>\n",
       "</table>\n",
       "</div>"
      ],
      "text/plain": [
       "     category           scientific_name               common_names  \\\n",
       "100      Bird  Haliaeetus leucocephalus                 Bald Eagle   \n",
       "3020   Mammal               Canis lupus            Gray Wolf, Wolf   \n",
       "3143     Bird   Falco peregrinus anatum  American Peregrine Falcon   \n",
       "4565     Bird    Pelecanus occidentalis              Brown Pelican   \n",
       "\n",
       "     conservation_status  \n",
       "100          In Recovery  \n",
       "3020         In Recovery  \n",
       "3143         In Recovery  \n",
       "4565         In Recovery  "
      ]
     },
     "execution_count": 12,
     "metadata": {},
     "output_type": "execute_result"
    }
   ],
   "source": [
    "# In recovery?\n",
    "in_recovery = spec_df[spec_df['conservation_status'] == 'In Recovery']\n",
    "in_recovery"
   ]
  },
  {
   "cell_type": "markdown",
   "metadata": {},
   "source": [
    "### Conservation Status for Animals"
   ]
  },
  {
   "cell_type": "code",
   "execution_count": 13,
   "metadata": {},
   "outputs": [
    {
     "name": "stdout",
     "output_type": "stream",
     "text": [
      "There are 1021 animals in the data.\n"
     ]
    }
   ],
   "source": [
    "# limit to animals\n",
    "animals = spec_df[(spec_df['category'] != 'Vascular Plant') & (spec_df['category'] != 'Nonvascular Plant')]\n",
    "# how many animals?\n",
    "print(f\"There are {len(animals)} animals in the data.\")"
   ]
  },
  {
   "cell_type": "code",
   "execution_count": 14,
   "metadata": {},
   "outputs": [
    {
     "data": {
      "image/png": "[encoded data removed]",
      "text/plain": [
       "<Figure size 432x288 with 1 Axes>"
      ]
     },
     "metadata": {},
     "output_type": "display_data"
    }
   ],
   "source": [
    "# Histogram for animals in the data\n",
    "sns.histplot(data=animals, x='category')\n",
    "plt.show()"
   ]
  },
  {
   "cell_type": "code",
   "execution_count": 15,
   "metadata": {},
   "outputs": [
    {
     "data": {
      "image/png": "[encoded data removed]",
      "text/plain": [
       "<Figure size 864x504 with 1 Axes>"
      ]
     },
     "metadata": {},
     "output_type": "display_data"
    }
   ],
   "source": [
    "# Countplot showing animal categories and conservation status\n",
    "plt.figure(figsize=(12, 7))\n",
    "sns.countplot(data=animals, x='category', hue='conservation_status')\n",
    "plt.title('Conservation Status Counts by Species', size=15)\n",
    "plt.xlabel('Species', size=14)\n",
    "plt.ylabel('Count', size=14)\n",
    "plt.savefig('count_by_status.png')\n",
    "plt.show()"
   ]
  },
  {
   "cell_type": "code",
   "execution_count": 16,
   "metadata": {},
   "outputs": [
    {
     "data": {
      "image/png": "[encoded data removed]",
      "text/plain": [
       "<Figure size 864x504 with 1 Axes>"
      ]
     },
     "metadata": {},
     "output_type": "display_data"
    }
   ],
   "source": [
    "# Endangered Species Countplot\n",
    "endangered_animals = animals[animals['conservation_status'] == 'Endangered']\n",
    "plt.figure(figsize=(12,7))\n",
    "sns.countplot(data=endangered_animals, x='category')\n",
    "plt.title('Endangered Count by Species', size=15)\n",
    "plt.xlabel('Species', size=14)\n",
    "plt.ylabel('Count', size=14)\n",
    "plt.savefig('endangered_by_species.png')\n",
    "plt.show()"
   ]
  },
  {
   "cell_type": "code",
   "execution_count": 17,
   "metadata": {},
   "outputs": [
    {
     "data": {
      "image/png": "[encoded data removed]",
      "text/plain": [
       "<Figure size 864x504 with 1 Axes>"
      ]
     },
     "metadata": {},
     "output_type": "display_data"
    }
   ],
   "source": [
    "# Threatened Species Countplot\n",
    "threatened_animals = animals[animals['conservation_status'] == 'Threatened']\n",
    "plt.figure(figsize=(12,7))\n",
    "sns.countplot(data=threatened_animals, x='category')\n",
    "plt.title('Threatened Count by Species', size=15)\n",
    "plt.xlabel('Species', size=14)\n",
    "plt.ylabel('Count', size=14)\n",
    "plt.savefig('threatened_by_species.png')\n",
    "plt.show()"
   ]
  },
  {
   "cell_type": "code",
   "execution_count": 18,
   "metadata": {},
   "outputs": [
    {
     "data": {
      "image/png": "[encoded data removed]",
      "text/plain": [
       "<Figure size 864x504 with 1 Axes>"
      ]
     },
     "metadata": {},
     "output_type": "display_data"
    }
   ],
   "source": [
    "# Species in Recovery Countplot\n",
    "in_recovery = animals[animals['conservation_status'] == 'In Recovery']\n",
    "plt.figure(figsize=(12,7))\n",
    "sns.countplot(data=in_recovery, x='category')\n",
    "plt.title('Species in Recovery', size=15)\n",
    "plt.xlabel('Species', size=14)\n",
    "plt.ylabel('Count', size=14)\n",
    "plt.savefig('in_recovery.png')\n",
    "plt.show()"
   ]
  },
  {
   "cell_type": "code",
   "execution_count": 19,
   "metadata": {},
   "outputs": [
    {
     "name": "stdout",
     "output_type": "stream",
     "text": [
      "The percentage of species in the data that is endangered is 0.0157\n"
     ]
    }
   ],
   "source": [
    "# What percentage of the species are endangered\n",
    "endangered = len(spec_df[spec_df['conservation_status'] == 'Endangered'])\n",
    "pct_endangered = round(endangered / len(animals), 4)\n",
    "print(f\"The percentage of species in the data that is endangered is {pct_endangered}\")"
   ]
  },
  {
   "cell_type": "code",
   "execution_count": 20,
   "metadata": {},
   "outputs": [
    {
     "name": "stdout",
     "output_type": "stream",
     "text": [
      "The percentage of species in the data that is endangered is 0.0098\n"
     ]
    }
   ],
   "source": [
    "# What percentage are threatened?\n",
    "threatened = len(spec_df[spec_df['conservation_status'] == 'Threatened'])\n",
    "pct_threatened = round(threatened / len(animals), 4)\n",
    "print(f\"The percentage of species in the data that is endangered is {pct_threatened}\")"
   ]
  },
  {
   "cell_type": "code",
   "execution_count": 21,
   "metadata": {},
   "outputs": [
    {
     "name": "stdout",
     "output_type": "stream",
     "text": [
      "The percentage of species in the data that is in recovery is 0.0039\n"
     ]
    }
   ],
   "source": [
    "# What percentage is in recovery?\n",
    "in_recovery = len(spec_df[spec_df['conservation_status'] == 'In Recovery'])\n",
    "pct_in_recovery = round(in_recovery / len(animals), 4)\n",
    "print(f\"The percentage of species in the data that is in recovery is {pct_in_recovery}\")"
   ]
  },
  {
   "cell_type": "markdown",
   "metadata": {},
   "source": [
    "### Conclusion:\n",
    "\n",
    "In this analysis I focused on endangered species to find out how many of our observations included animals that are endangered. As all animals are key to ecosystems, this is important to know. Fortunately, just under two percent (.0157) of the species are endangered. Even less (.0098 or close to 1 %) percent are threatened. Only a tiny percentage (.0039 or about four-tenths of a percent) are in recovery. Mammals (7 species) are the most likely to be endangered based on basic counts. Fish constitute the majority of the species that are threatened (4 species) and birds make up most of the species in recovery (3). While those are small numbers in a data set of 1021 animal species, it is still too many."
   ]
  },
  {
   "cell_type": "code",
   "execution_count": null,
   "metadata": {},
   "outputs": [],
   "source": []
  }
 ],
 "metadata": {
  "kernelspec": {
   "display_name": "Python 3",
   "language": "python",
   "name": "python3"
  },
  "language_info": {
   "codemirror_mode": {
    "name": "ipython",
    "version": 3
   },
   "file_extension": ".py",
   "mimetype": "text/x-python",
   "name": "python",
   "nbconvert_exporter": "python",
   "pygments_lexer": "ipython3",
   "version": "3.8.5"
  }
 },
 "nbformat": 4,
 "nbformat_minor": 4
}
